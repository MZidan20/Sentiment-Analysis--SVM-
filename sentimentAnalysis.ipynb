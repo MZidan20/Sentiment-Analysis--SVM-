{
 "cells": [
  {
   "cell_type": "code",
   "execution_count": 9,
   "id": "faad6d17",
   "metadata": {},
   "outputs": [],
   "source": [
    "import pandas as pd\n",
    "import time\n",
    "from sklearn import svm\n",
    "from sklearn.metrics import classification_report\n",
    "from sklearn.feature_extraction.text import TfidfVectorizer"
   ]
  },
  {
   "cell_type": "code",
   "execution_count": 6,
   "id": "10443ff3",
   "metadata": {},
   "outputs": [],
   "source": [
    "# train Data\n",
    "trainData = pd.read_csv(\"https://raw.githubusercontent.com/Vasistareddy/sentiment_analysis/master/data/train.csv\")\n",
    "# test Data\n",
    "testData = pd.read_csv(\"https://raw.githubusercontent.com/Vasistareddy/sentiment_analysis/master/data/test.csv\")"
   ]
  },
  {
   "cell_type": "code",
   "execution_count": 8,
   "id": "18fe9a79",
   "metadata": {},
   "outputs": [
    {
     "data": {
      "text/html": [
       "<div>\n",
       "<style scoped>\n",
       "    .dataframe tbody tr th:only-of-type {\n",
       "        vertical-align: middle;\n",
       "    }\n",
       "\n",
       "    .dataframe tbody tr th {\n",
       "        vertical-align: top;\n",
       "    }\n",
       "\n",
       "    .dataframe thead th {\n",
       "        text-align: right;\n",
       "    }\n",
       "</style>\n",
       "<table border=\"1\" class=\"dataframe\">\n",
       "  <thead>\n",
       "    <tr style=\"text-align: right;\">\n",
       "      <th></th>\n",
       "      <th>Content</th>\n",
       "      <th>Label</th>\n",
       "    </tr>\n",
       "  </thead>\n",
       "  <tbody>\n",
       "    <tr>\n",
       "      <th>75</th>\n",
       "      <td>bob the happy bastard's quickie review : \\nrus...</td>\n",
       "      <td>pos</td>\n",
       "    </tr>\n",
       "    <tr>\n",
       "      <th>1570</th>\n",
       "      <td>i am a steven seagal fan . \\ni only say this n...</td>\n",
       "      <td>neg</td>\n",
       "    </tr>\n",
       "    <tr>\n",
       "      <th>809</th>\n",
       "      <td>ingredients : lost parrot trying to get home ,...</td>\n",
       "      <td>pos</td>\n",
       "    </tr>\n",
       "    <tr>\n",
       "      <th>1155</th>\n",
       "      <td>among multitude of erotic thrillers , that had...</td>\n",
       "      <td>neg</td>\n",
       "    </tr>\n",
       "    <tr>\n",
       "      <th>1456</th>\n",
       "      <td>this is the worst movie i've viewed so far in ...</td>\n",
       "      <td>neg</td>\n",
       "    </tr>\n",
       "  </tbody>\n",
       "</table>\n",
       "</div>"
      ],
      "text/plain": [
       "                                                Content Label\n",
       "75    bob the happy bastard's quickie review : \\nrus...   pos\n",
       "1570  i am a steven seagal fan . \\ni only say this n...   neg\n",
       "809   ingredients : lost parrot trying to get home ,...   pos\n",
       "1155  among multitude of erotic thrillers , that had...   neg\n",
       "1456  this is the worst movie i've viewed so far in ...   neg"
      ]
     },
     "execution_count": 8,
     "metadata": {},
     "output_type": "execute_result"
    }
   ],
   "source": [
    "trainData.sample(frac=1).head(5) # shuffle the df and pick first 5"
   ]
  },
  {
   "cell_type": "code",
   "execution_count": 7,
   "id": "c5580763",
   "metadata": {},
   "outputs": [],
   "source": [
    "# Create feature vectors\n",
    "vectorizer = TfidfVectorizer(min_df = 5,\n",
    "                             max_df = 0.8,\n",
    "                             sublinear_tf = True,\n",
    "                             use_idf = True)\n",
    "train_vectors = vectorizer.fit_transform(trainData['Content'])\n",
    "test_vectors = vectorizer.transform(testData['Content'])"
   ]
  },
  {
   "cell_type": "code",
   "execution_count": 10,
   "id": "bf79c062",
   "metadata": {},
   "outputs": [
    {
     "name": "stdout",
     "output_type": "stream",
     "text": [
      "Training time: 15.660552s; Prediction time: 1.519460s\n"
     ]
    }
   ],
   "source": [
    "# Perform classification with SVM, kernel=linear\n",
    "classifier_linear = svm.SVC(kernel='linear')\n",
    "t0 = time.time()\n",
    "classifier_linear.fit(train_vectors, trainData['Label'])\n",
    "t1 = time.time()\n",
    "prediction_linear = classifier_linear.predict(test_vectors)\n",
    "t2 = time.time()\n",
    "time_linear_train = t1-t0\n",
    "time_linear_predict = t2-t1\n",
    "# results\n",
    "print(\"Training time: %fs; Prediction time: %fs\" % (time_linear_train, time_linear_predict))"
   ]
  },
  {
   "cell_type": "code",
   "execution_count": 11,
   "id": "4e436c1a",
   "metadata": {},
   "outputs": [
    {
     "name": "stdout",
     "output_type": "stream",
     "text": [
      "positive:  {'precision': 0.9191919191919192, 'recall': 0.91, 'f1-score': 0.914572864321608, 'support': 100.0}\n",
      "negative:  {'precision': 0.9108910891089109, 'recall': 0.92, 'f1-score': 0.9154228855721394, 'support': 100.0}\n"
     ]
    }
   ],
   "source": [
    "\n",
    "report = classification_report(testData['Label'], prediction_linear, output_dict=True)\n",
    "print('positive: ', report['pos'])\n",
    "print('negative: ', report['neg'])"
   ]
  },
  {
   "cell_type": "code",
   "execution_count": null,
   "id": "7afad250",
   "metadata": {},
   "outputs": [],
   "source": []
  }
 ],
 "metadata": {
  "kernelspec": {
   "display_name": ".venv",
   "language": "python",
   "name": "python3"
  },
  "language_info": {
   "codemirror_mode": {
    "name": "ipython",
    "version": 3
   },
   "file_extension": ".py",
   "mimetype": "text/x-python",
   "name": "python",
   "nbconvert_exporter": "python",
   "pygments_lexer": "ipython3",
   "version": "3.11.4"
  }
 },
 "nbformat": 4,
 "nbformat_minor": 5
}
